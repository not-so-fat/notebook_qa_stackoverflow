{
 "cells": [
  {
   "cell_type": "code",
   "execution_count": null,
   "id": "af79de56-bde1-4389-aff0-635fbe68344e",
   "metadata": {},
   "outputs": [],
   "source": [
    "DBFILEPATH = \"test.db\"\n",
    "STO_CLNAME = \"stackoverflow\"\n",
    "MANUAL_CLNAME = \"manual\""
   ]
  },
  {
   "cell_type": "code",
   "execution_count": null,
   "id": "54071867-9790-47d5-9c48-fb98cfee4df8",
   "metadata": {},
   "outputs": [],
   "source": [
    "def get_new_collection(clname, **kwargs):\n",
    "    if client.has_collection(collection_name=clname):\n",
    "        client.drop_collection(collection_name=clname)\n",
    "    client.create_collection(\n",
    "        collection_name=clname, **kwargs\n",
    "    )"
   ]
  },
  {
   "cell_type": "code",
   "execution_count": null,
   "id": "6d722c6e-d0e7-491e-b0b4-9c0c0d50b127",
   "metadata": {},
   "outputs": [],
   "source": [
    "from transformers import AutoTokenizer\n",
    "\n",
    "\n",
    "tokenizer = AutoTokenizer.from_pretrained(\"bert-base-uncased\")\n",
    "\n",
    "\n",
    "def truncate_text(text, max_tokens=300):\n",
    "    tokens = tokenizer.encode(text)\n",
    "    print(len(tokens))\n",
    "    if len(tokens) > max_tokens:\n",
    "        logger.warning(f\"text was truncated: {len(tokens)} -> {max_tokens}\")\n",
    "    return tokenizer.decode(tokens[:max_tokens])"
   ]
  },
  {
   "cell_type": "code",
   "execution_count": null,
   "id": "00fb2170-a8f9-438f-9c45-86d7f43e66d3",
   "metadata": {},
   "outputs": [],
   "source": [
    "from pymilvus import model\n",
    "\n",
    "\n",
    "STO_EMB_DIM =  768\n",
    "embedding_fn = model.DefaultEmbeddingFunction()\n",
    "\n",
    "\n",
    "def embed_sto(text_list):\n",
    "    return embedding_fn.encode_documents(text_list)"
   ]
  },
  {
   "cell_type": "code",
   "execution_count": null,
   "id": "709ce9f0-81e9-4b55-a8c3-bc1b7f29980b",
   "metadata": {},
   "outputs": [],
   "source": []
  },
  {
   "cell_type": "code",
   "execution_count": null,
   "id": "155b49d3-ba16-4228-b0ea-ccf50c617424",
   "metadata": {},
   "outputs": [],
   "source": [
    "import os\n",
    "\n",
    "os.environ[\"GROQ_API_KEY\"] = \"PUT_YOUR_KEY\""
   ]
  }
 ],
 "metadata": {
  "kernelspec": {
   "display_name": "Python 3 (ipykernel)",
   "language": "python",
   "name": "python3"
  },
  "language_info": {
   "codemirror_mode": {
    "name": "ipython",
    "version": 3
   },
   "file_extension": ".py",
   "mimetype": "text/x-python",
   "name": "python",
   "nbconvert_exporter": "python",
   "pygments_lexer": "ipython3",
   "version": "3.12.3"
  }
 },
 "nbformat": 4,
 "nbformat_minor": 5
}
