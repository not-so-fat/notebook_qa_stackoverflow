{
 "cells": [
  {
   "cell_type": "markdown",
   "id": "1407c580-172c-4b64-986d-576e2d59228a",
   "metadata": {},
   "source": [
    "# Challenges\n",
    "\n",
    "How can I contribute to the community quickly? \n",
    "Try to answer questions on stackoverflow. May due to lack of experience, I found it is difficult to understand what is happening just based on description.\n",
    "\n",
    "- Search similar queries to get idea of root cause and solutions\n",
    "- Search relevant manual description (do this in next iteration)\n",
    "- Explain potential causes with relevant documents\n",
    "- Try reproduction of problem and solution ... this part would be difficult? (first out of scope)"
   ]
  },
  {
   "cell_type": "code",
   "execution_count": 1,
   "id": "efc75013-1dc3-48b7-8ee2-ab8397737d8d",
   "metadata": {},
   "outputs": [],
   "source": [
    "%run ./global.ipynb"
   ]
  },
  {
   "cell_type": "code",
   "execution_count": 2,
   "id": "5ed4572d-2c98-40cc-ad55-3444b925d5fe",
   "metadata": {},
   "outputs": [
    {
     "name": "stderr",
     "output_type": "stream",
     "text": [
      "Created new connection using: ffbb73a0786c4fa2ad1d3538b7f02d2e\n"
     ]
    }
   ],
   "source": [
    "from groq import Groq\n",
    "from pymilvus import MilvusClient\n",
    "groq_client = Groq(\n",
    "    api_key=os.environ.get(\"GROQ_API_KEY\"),\n",
    ")\n",
    "milvus_client = MilvusClient(DBFILEPATH)"
   ]
  },
  {
   "cell_type": "code",
   "execution_count": 3,
   "id": "c74fc23d-0b30-42c9-958e-9552c291b8ed",
   "metadata": {
    "scrolled": true
   },
   "outputs": [
    {
     "data": {
      "text/plain": [
       "{'collection_name': 'stackoverflow',\n",
       " 'auto_id': True,\n",
       " 'num_shards': 0,\n",
       " 'description': 'Schema for stackoverflow',\n",
       " 'fields': [{'field_id': 100,\n",
       "   'name': 'id',\n",
       "   'description': '',\n",
       "   'type': <DataType.INT64: 5>,\n",
       "   'params': {},\n",
       "   'auto_id': True,\n",
       "   'is_primary': True},\n",
       "  {'field_id': 101,\n",
       "   'name': 'vector_title',\n",
       "   'description': '',\n",
       "   'type': <DataType.FLOAT_VECTOR: 101>,\n",
       "   'params': {'dim': 768}},\n",
       "  {'field_id': 102,\n",
       "   'name': 'vector',\n",
       "   'description': '',\n",
       "   'type': <DataType.FLOAT_VECTOR: 101>,\n",
       "   'params': {'dim': 768}},\n",
       "  {'field_id': 103,\n",
       "   'name': 'question_title',\n",
       "   'description': '',\n",
       "   'type': <DataType.VARCHAR: 21>,\n",
       "   'params': {'max_length': 10000}},\n",
       "  {'field_id': 104,\n",
       "   'name': 'question',\n",
       "   'description': '',\n",
       "   'type': <DataType.VARCHAR: 21>,\n",
       "   'params': {'max_length': 10000}},\n",
       "  {'field_id': 105,\n",
       "   'name': 'url',\n",
       "   'description': '',\n",
       "   'type': <DataType.VARCHAR: 21>,\n",
       "   'params': {'max_length': 1000}},\n",
       "  {'field_id': 106,\n",
       "   'name': 'answers',\n",
       "   'description': '',\n",
       "   'type': <DataType.VARCHAR: 21>,\n",
       "   'params': {'max_length': 10000}},\n",
       "  {'field_id': 107,\n",
       "   'name': 'num_vote',\n",
       "   'description': '',\n",
       "   'type': <DataType.VARCHAR: 21>,\n",
       "   'params': {'max_length': 8}},\n",
       "  {'field_id': 108,\n",
       "   'name': 'num_answer',\n",
       "   'description': '',\n",
       "   'type': <DataType.VARCHAR: 21>,\n",
       "   'params': {'max_length': 8}}],\n",
       " 'aliases': [],\n",
       " 'collection_id': 0,\n",
       " 'consistency_level': 0,\n",
       " 'properties': {},\n",
       " 'num_partitions': 0,\n",
       " 'enable_dynamic_field': False}"
      ]
     },
     "execution_count": 3,
     "metadata": {},
     "output_type": "execute_result"
    }
   ],
   "source": [
    "milvus_client.describe_collection(STO_CLNAME)"
   ]
  },
  {
   "cell_type": "code",
   "execution_count": 8,
   "id": "06a02f51-959f-4d58-80c3-d8dd7ada2bc4",
   "metadata": {},
   "outputs": [],
   "source": [
    "# QA system part:\n",
    "\n",
    "\n",
    "SYSTEM_PROMPT = \"\"\"\n",
    "We'd like to find out potential root cause for the reported issues on Milvus on Stackoverflow.\n",
    "Given following information provided as JSON (link and contents), please give me potential causes, \n",
    "with what is the reason of your guess with relevant information URL.\n",
    "\"\"\"\n",
    "\n",
    "\n",
    "def get_potential_causes(query, milvus_client, groq_client):\n",
    "    sto_docs = search_sto(query, milvus_client)\n",
    "    prompt = f\"\"\"\n",
    "    {SYSTEM_PROMPT}\n",
    "    User's query:{query}\n",
    "    Relevant stackoverflow past quetions:{sto_docs}\n",
    "    Your answer:\n",
    "    \"\"\"\n",
    "    chat_completion = groq_client.chat.completions.create(\n",
    "        messages=[\n",
    "            {\n",
    "                \"role\": \"user\",\n",
    "                \"content\": prompt,\n",
    "            }\n",
    "        ],\n",
    "        model=\"llama3-70b-8192\",\n",
    "    )\n",
    "    return chat_completion.choices[0].message.content\n",
    "\n",
    "\n",
    "def search_sto(query, milvus_client):\n",
    "    query_vectors = embed_sto([truncate_text(query)])\n",
    "    search_params = {\n",
    "        \"metric_type\": \"COSINE\"\n",
    "    }\n",
    "    res = milvus_client.search(\n",
    "        collection_name=STO_CLNAME,  # target collection\n",
    "        data=query_vectors,  # query vectors\n",
    "        limit=5,  # number of returned entities\n",
    "        search_params=search_params,\n",
    "        anns_field=\"vector\",\n",
    "        output_fields=[\"question_title\", \"question\", \"answers\", \"url\"],  # specifies fields to be returned\n",
    "    )\n",
    "    return [elem[\"entity\"] for elem in res[0]]"
   ]
  },
  {
   "cell_type": "code",
   "execution_count": 10,
   "id": "cc607d22-61fc-4d26-bbe2-528a287f27ee",
   "metadata": {},
   "outputs": [
    {
     "name": "stderr",
     "output_type": "stream",
     "text": [
      "text was truncated: 701 -> 300\n"
     ]
    },
    {
     "name": "stdout",
     "output_type": "stream",
     "text": [
      "701\n"
     ]
    },
    {
     "name": "stderr",
     "output_type": "stream",
     "text": [
      "HTTP Request: POST https://api.groq.com/openai/v1/chat/completions \"HTTP/1.1 429 Too Many Requests\"\n",
      "Retrying request to /openai/v1/chat/completions in 7.000000 seconds\n",
      "HTTP Request: POST https://api.groq.com/openai/v1/chat/completions \"HTTP/1.1 200 OK\"\n"
     ]
    },
    {
     "name": "stdout",
     "output_type": "stream",
     "text": [
      "Based on the provided information, I'll try to identify potential causes for the reported issues on Milvus:\n",
      "\n",
      "**Issue 1: Exporting Milvus data in version 2.4**\n",
      "\n",
      "The user is trying to export Milvus data using the `milvus-migration` tool, but encounters an error indicating that the migration tool is attempting to use metadata database connection arguments.\n",
      "\n",
      "Potential causes:\n",
      "\n",
      "* The `milvus-migration` tool is not compatible with Milvus version 2.4.\n",
      "* The configuration file `export_m2m.yaml` is not properly set up for Milvus version 2.4.\n",
      "\n",
      "**Relevant information URL:** \n",
      "https://milvus.io/docs/v2.0.0/migration/export_data.md (Milvus documentation on exporting data)\n",
      "\n",
      "**Issue 2: Pod has unbound immediate PersistentVolumeClaims**\n",
      "\n",
      "The user is trying to deploy a Milvus cluster using Kubernetes, but encounters an error related to PersistentVolumeClaims.\n",
      "\n",
      "Potential causes:\n",
      "\n",
      "* The user has not configured Persistent Volumes (PVs) and StorageClasses correctly.\n",
      "* The Milvus Helm chart is not properly configured for Persistent Volumes.\n",
      "\n",
      "**Relevant information URL:** \n",
      "https://kubernetes.io/docs/concepts/storage/persistent-volumes/ (Kubernetes documentation on Persistent Volumes)\n",
      "\n",
      "**Issue 3: Milvus Cluster not Running with Milvus Operator**\n",
      "\n",
      "The user is trying to create a Milvus cluster using the Milvus Operator, but encounters an error related to webhooks.\n",
      "\n",
      "Potential causes:\n",
      "\n",
      "* The Milvus Operator is not properly configured or installed.\n",
      "* The user has not set up the necessary webhook configurations.\n",
      "\n",
      "**Relevant information URL:** \n",
      "https://milvus.io/docs/v2.0.0/operator/deploy_operator.md (Milvus documentation on deploying the Milvus Operator)\n",
      "\n",
      "**Issue 4: QueryNode Chunk Cache**\n",
      "\n",
      "The user is trying to optimize partition load times in a Milvus cluster and is investigating the use of chunk caching.\n",
      "\n",
      "Potential causes:\n",
      "\n",
      "* The chunk cache is not properly configured or enabled.\n",
      "* The user is not using the correct Grafana panels to monitor chunk cache performance.\n",
      "\n",
      "**Relevant information URL:** \n",
      "https://milvus.io/docs/v2.0.0/configure/query_node.md (Milvus documentation on configuring the QueryNode)\n",
      "\n",
      "**Issue 5: Installing Milvus Standalone through Helm**\n",
      "\n",
      "The user is trying to install Milvus Standalone using Helm, but encounters an error related to insufficient memory.\n",
      "\n",
      "Potential causes:\n",
      "\n",
      "* The user has not allocated enough memory to the Kubernetes cluster.\n",
      "* The Milvus Helm chart is not properly configured for the available resources.\n",
      "\n",
      "**Relevant information URL:** \n",
      "https://milvus.io/docs/v2.0.0/install_standalone-helm.md (Milvus documentation on installing Milvus Standalone using Helm)\n",
      "\n",
      "These are just potential causes based on the provided information, and further investigation is necessary to identify the root causes of the issues.\n"
     ]
    }
   ],
   "source": [
    "query = \"\"\"\n",
    "I am looking for an option to export milvus data in ver 2.4 (sort of backup), and then migrate it to another machine. According to the doc, there is such option for migrating from ver 1,x. Is it possible to perform milvus-migration export from ver 2.4?\n",
    "\n",
    "When I tried it I got error message indicating that the migration tool is attempting to use metadata database connection arguments. It seems the tool requires a specific mode to handle Milvus 2.x without MySQL..\n",
    "\n",
    "(venv) qa@Ubuntu2204-2f3833:~/MILVUS-MIGRATION/work$ ./milvus-migration export --config=./configs/export_m2m.yaml\n",
    "[2024/07/24 13:57:06.174 +03:00] [ERROR] [cmd/export.go:46] [\"fail to export meta collection, empty meta db connect args\"] [stack=\"github.com/zilliztech/milvus-migration/cmd.init.func1\\n\\t/home/qa/MILVUS-MIGRATION/milvus-migration/cmd/export.go:46\\ngithub.com/spf13/cobra.(*Command).execute\\n\\t/home/qa/go/pkg/mod/github.com/spf13/cobra@v1.8.0/command.go:987\\ngithub.com/spf13/cobra.(*Command).ExecuteC\\n\\t/home/qa/go/pkg/mod/github.com/spf13/cobra@v1.8.0/command.go:1115\\ngithub.com/spf13/cobra.(*Command).Execute\\n\\t/home/qa/go/pkg/mod/github.com/spf13/cobra@v1.8.0/command.go:1039\\ngithub.com/zilliztech/milvus-migration/cmd.Execute\\n\\t/home/qa/MILVUS-MIGRATION/milvus-migration/cmd/root.go:26\\nmain.main\\n\\t/home/qa/MILVUS-MIGRATION/milvus-migration/main.go:16\\nruntime.main\\n\\t/snap/go/10660/src/runtime/proc.go:271\"]\n",
    "\n",
    "(venv) qa@Ubuntu2204-2f3833:~/MILVUS-MIGRATION/work$ cat ./configs/export_m2m.yaml\n",
    "dumper:\n",
    "worker:\n",
    "limit: 2\n",
    "workMode: milvus1x\n",
    "reader:\n",
    "bufferSize: 1024\n",
    "writer:\n",
    "bufferSize: 1024\n",
    "\n",
    "loader:\n",
    "worker:\n",
    "limit: 16\n",
    "\n",
    "meta:\n",
    "mode: none\n",
    "\n",
    "source:\n",
    "mode: local\n",
    "local:\n",
    "tablesDir: /home/qa/MILVUS/milvus/tables/\n",
    "\n",
    "target:\n",
    "mode: local\n",
    "local:\n",
    "outputDir: /home/qa/MILVUS/milvus/migration/output/\n",
    "milvus2x:\n",
    "endpoint: \"localhost:19530\"\n",
    "username: xxxx\n",
    "password: xxxx\n",
    "\"\"\"\n",
    "\n",
    "\n",
    "print(get_potential_causes(query, milvus_client, groq_client))"
   ]
  },
  {
   "cell_type": "code",
   "execution_count": null,
   "id": "f387fd0c-b9d3-43cf-85a5-5406ecfc0b26",
   "metadata": {},
   "outputs": [],
   "source": []
  }
 ],
 "metadata": {
  "kernelspec": {
   "display_name": "Python 3 (ipykernel)",
   "language": "python",
   "name": "python3"
  },
  "language_info": {
   "codemirror_mode": {
    "name": "ipython",
    "version": 3
   },
   "file_extension": ".py",
   "mimetype": "text/x-python",
   "name": "python",
   "nbconvert_exporter": "python",
   "pygments_lexer": "ipython3",
   "version": "3.12.3"
  }
 },
 "nbformat": 4,
 "nbformat_minor": 5
}
