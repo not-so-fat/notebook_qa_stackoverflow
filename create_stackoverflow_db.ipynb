{
 "cells": [
  {
   "cell_type": "code",
   "execution_count": 1,
   "id": "81729256-3fcd-4a21-8042-7df13d1b637a",
   "metadata": {},
   "outputs": [],
   "source": [
    "%run ./global.ipynb"
   ]
  },
  {
   "cell_type": "code",
   "execution_count": 2,
   "id": "2d22f10f-b9bd-4a98-94fa-232c0c0de9b2",
   "metadata": {},
   "outputs": [],
   "source": [
    "import json\n",
    "\n",
    "from pymilvus import (\n",
    "    MilvusClient,\n",
    "    CollectionSchema, \n",
    "    FieldSchema, \n",
    "    DataType\n",
    ")"
   ]
  },
  {
   "cell_type": "code",
   "execution_count": 3,
   "id": "a71dc1de-22b4-448f-9db8-423f87473db9",
   "metadata": {},
   "outputs": [],
   "source": [
    "fields = [\n",
    "    FieldSchema(name=\"id\", dtype=DataType.INT64, is_primary=True, auto_id=True),\n",
    "    FieldSchema(name=\"vector_title\", dtype=DataType.FLOAT_VECTOR, dim=STO_EMB_DIM),\n",
    "    FieldSchema(name=\"vector\", dtype=DataType.FLOAT_VECTOR, dim=STO_EMB_DIM),\n",
    "    FieldSchema(name=\"question_title\", dtype=DataType.VARCHAR, max_length=10000),\n",
    "    FieldSchema(name=\"question\", dtype=DataType.VARCHAR, max_length=10000),\n",
    "    FieldSchema(name=\"url\", dtype=DataType.VARCHAR, max_length=1000),\n",
    "    FieldSchema(name=\"answers\", dtype=DataType.VARCHAR, max_length=10000),\n",
    "    FieldSchema(name=\"num_vote\", dtype=DataType.VARCHAR, max_length=8),\n",
    "    FieldSchema(name=\"num_answer\", dtype=DataType.VARCHAR, max_length=8)\n",
    "]\n",
    "schema = CollectionSchema(\n",
    "    fields=fields,\n",
    "    auto_id=True,\n",
    "    description=\"Schema for stackoverflow\"\n",
    ")"
   ]
  },
  {
   "cell_type": "code",
   "execution_count": 4,
   "id": "1004e017-1d32-45db-88e0-b42a7a295480",
   "metadata": {},
   "outputs": [
    {
     "name": "stderr",
     "output_type": "stream",
     "text": [
      "Created new connection using: b0442bf37fcf4a41ab80b668b19c6778\n",
      "Successfully created collection: stackoverflow\n"
     ]
    }
   ],
   "source": [
    "client = MilvusClient(DBFILEPATH)\n",
    "get_new_collection(STO_CLNAME, dimension=STO_EMB_DIM, schema=schema, auto_id=True)"
   ]
  },
  {
   "cell_type": "code",
   "execution_count": 5,
   "id": "b51eb64c-ddfa-4d2d-a1ce-749c68216394",
   "metadata": {},
   "outputs": [
    {
     "name": "stderr",
     "output_type": "stream",
     "text": [
      "Successfully created an index on collection: stackoverflow\n",
      "Successfully created an index on collection: stackoverflow\n"
     ]
    }
   ],
   "source": [
    "index_params = client.prepare_index_params()\n",
    "index_params.add_index(\n",
    "    field_name=\"vector\",\n",
    "    metric_type=\"COSINE\",\n",
    "    index_type=\"FLAT\",\n",
    "    index_name=\"vector_index\",\n",
    "    params={\"nlist\": 128 }\n",
    ")\n",
    "index_params.add_index(\n",
    "    field_name=\"vector_title\",\n",
    "    metric_type=\"COSINE\",\n",
    "    index_type=\"FLAT\",\n",
    "    index_name=\"vector_title_index\",\n",
    "    params={\"nlist\": 128 }\n",
    ")\n",
    "\n",
    "\n",
    "client.create_index(\n",
    "    collection_name=STO_CLNAME,\n",
    "    index_params=index_params\n",
    ")"
   ]
  },
  {
   "cell_type": "code",
   "execution_count": 6,
   "id": "6fd68a23-45a6-4001-acb1-e51886f4c780",
   "metadata": {
    "scrolled": true
   },
   "outputs": [
    {
     "name": "stdout",
     "output_type": "stream",
     "text": [
      "processing 0/131\n",
      "262\n",
      "19\n"
     ]
    },
    {
     "name": "stderr",
     "output_type": "stream",
     "text": [
      "Token indices sequence length is longer than the specified maximum sequence length for this model (651 > 512). Running this sequence through the model will result in indexing errors\n",
      "text was truncated: 651 -> 300\n"
     ]
    },
    {
     "name": "stdout",
     "output_type": "stream",
     "text": [
      "processing 1/131\n",
      "651\n",
      "10\n",
      "processing 2/131\n",
      "223\n",
      "34\n",
      "processing 3/131\n",
      "170\n",
      "26\n"
     ]
    },
    {
     "name": "stderr",
     "output_type": "stream",
     "text": [
      "text was truncated: 604 -> 300\n"
     ]
    },
    {
     "name": "stdout",
     "output_type": "stream",
     "text": [
      "processing 4/131\n",
      "604\n",
      "19\n"
     ]
    },
    {
     "name": "stderr",
     "output_type": "stream",
     "text": [
      "text was truncated: 3373 -> 300\n"
     ]
    },
    {
     "name": "stdout",
     "output_type": "stream",
     "text": [
      "processing 5/131\n",
      "3373\n",
      "24\n",
      "processing 6/131\n",
      "155\n",
      "16\n"
     ]
    },
    {
     "name": "stderr",
     "output_type": "stream",
     "text": [
      "text was truncated: 1235 -> 300\n"
     ]
    },
    {
     "name": "stdout",
     "output_type": "stream",
     "text": [
      "processing 7/131\n",
      "1235\n",
      "12\n",
      "processing 8/131\n",
      "71\n",
      "21\n"
     ]
    },
    {
     "name": "stderr",
     "output_type": "stream",
     "text": [
      "text was truncated: 373 -> 300\n"
     ]
    },
    {
     "name": "stdout",
     "output_type": "stream",
     "text": [
      "processing 9/131\n",
      "373\n",
      "12\n"
     ]
    },
    {
     "name": "stderr",
     "output_type": "stream",
     "text": [
      "text was truncated: 1622 -> 300\n"
     ]
    },
    {
     "name": "stdout",
     "output_type": "stream",
     "text": [
      "processing 10/131\n",
      "1622\n",
      "35\n"
     ]
    },
    {
     "name": "stderr",
     "output_type": "stream",
     "text": [
      "text was truncated: 411 -> 300\n"
     ]
    },
    {
     "name": "stdout",
     "output_type": "stream",
     "text": [
      "processing 11/131\n",
      "411\n",
      "11\n",
      "processing 12/131\n",
      "259\n",
      "29\n"
     ]
    },
    {
     "name": "stderr",
     "output_type": "stream",
     "text": [
      "text was truncated: 525 -> 300\n"
     ]
    },
    {
     "name": "stdout",
     "output_type": "stream",
     "text": [
      "processing 13/131\n",
      "525\n",
      "13\n"
     ]
    },
    {
     "name": "stderr",
     "output_type": "stream",
     "text": [
      "text was truncated: 358 -> 300\n"
     ]
    },
    {
     "name": "stdout",
     "output_type": "stream",
     "text": [
      "processing 14/131\n",
      "358\n",
      "15\n"
     ]
    },
    {
     "name": "stderr",
     "output_type": "stream",
     "text": [
      "text was truncated: 1250 -> 300\n"
     ]
    },
    {
     "name": "stdout",
     "output_type": "stream",
     "text": [
      "processing 15/131\n",
      "1250\n",
      "17\n"
     ]
    },
    {
     "name": "stderr",
     "output_type": "stream",
     "text": [
      "text was truncated: 460 -> 300\n"
     ]
    },
    {
     "name": "stdout",
     "output_type": "stream",
     "text": [
      "processing 16/131\n",
      "460\n",
      "14\n",
      "processing 17/131\n",
      "298\n",
      "21\n",
      "processing 18/131\n",
      "232\n",
      "36\n",
      "processing 19/131\n",
      "127\n",
      "20\n"
     ]
    },
    {
     "name": "stderr",
     "output_type": "stream",
     "text": [
      "text was truncated: 2207 -> 300\n"
     ]
    },
    {
     "name": "stdout",
     "output_type": "stream",
     "text": [
      "processing 20/131\n",
      "2207\n",
      "8\n",
      "processing 21/131\n",
      "221\n",
      "6\n"
     ]
    },
    {
     "name": "stderr",
     "output_type": "stream",
     "text": [
      "text was truncated: 362 -> 300\n"
     ]
    },
    {
     "name": "stdout",
     "output_type": "stream",
     "text": [
      "processing 22/131\n",
      "362\n",
      "12\n",
      "processing 23/131\n",
      "289\n",
      "30\n",
      "processing 24/131\n",
      "178\n",
      "19\n",
      "processing 25/131\n",
      "204\n",
      "16\n"
     ]
    },
    {
     "name": "stderr",
     "output_type": "stream",
     "text": [
      "text was truncated: 351 -> 300\n"
     ]
    },
    {
     "name": "stdout",
     "output_type": "stream",
     "text": [
      "processing 26/131\n",
      "351\n",
      "7\n",
      "processing 27/131\n",
      "211\n",
      "19\n",
      "processing 28/131\n",
      "123\n",
      "11\n"
     ]
    },
    {
     "name": "stderr",
     "output_type": "stream",
     "text": [
      "text was truncated: 525 -> 300\n"
     ]
    },
    {
     "name": "stdout",
     "output_type": "stream",
     "text": [
      "processing 29/131\n",
      "525\n",
      "8\n"
     ]
    },
    {
     "name": "stderr",
     "output_type": "stream",
     "text": [
      "text was truncated: 307 -> 300\n"
     ]
    },
    {
     "name": "stdout",
     "output_type": "stream",
     "text": [
      "processing 30/131\n",
      "307\n",
      "12\n",
      "processing 31/131\n",
      "262\n",
      "11\n"
     ]
    },
    {
     "name": "stderr",
     "output_type": "stream",
     "text": [
      "text was truncated: 572 -> 300\n"
     ]
    },
    {
     "name": "stdout",
     "output_type": "stream",
     "text": [
      "processing 32/131\n",
      "572\n",
      "12\n",
      "processing 33/131\n",
      "88\n",
      "17\n",
      "processing 34/131\n",
      "145\n",
      "32\n",
      "processing 35/131\n",
      "292\n",
      "16\n"
     ]
    },
    {
     "name": "stderr",
     "output_type": "stream",
     "text": [
      "text was truncated: 508 -> 300\n"
     ]
    },
    {
     "name": "stdout",
     "output_type": "stream",
     "text": [
      "processing 36/131\n",
      "508\n",
      "14\n"
     ]
    },
    {
     "name": "stderr",
     "output_type": "stream",
     "text": [
      "text was truncated: 4378 -> 300\n"
     ]
    },
    {
     "name": "stdout",
     "output_type": "stream",
     "text": [
      "processing 37/131\n",
      "4378\n",
      "15\n",
      "processing 38/131\n",
      "95\n",
      "9\n"
     ]
    },
    {
     "name": "stderr",
     "output_type": "stream",
     "text": [
      "text was truncated: 616 -> 300\n"
     ]
    },
    {
     "name": "stdout",
     "output_type": "stream",
     "text": [
      "processing 39/131\n",
      "616\n",
      "9\n"
     ]
    },
    {
     "name": "stderr",
     "output_type": "stream",
     "text": [
      "text was truncated: 599 -> 300\n"
     ]
    },
    {
     "name": "stdout",
     "output_type": "stream",
     "text": [
      "processing 40/131\n",
      "599\n",
      "10\n"
     ]
    },
    {
     "name": "stderr",
     "output_type": "stream",
     "text": [
      "text was truncated: 875 -> 300\n"
     ]
    },
    {
     "name": "stdout",
     "output_type": "stream",
     "text": [
      "processing 41/131\n",
      "875\n",
      "10\n"
     ]
    },
    {
     "name": "stderr",
     "output_type": "stream",
     "text": [
      "text was truncated: 323 -> 300\n"
     ]
    },
    {
     "name": "stdout",
     "output_type": "stream",
     "text": [
      "processing 42/131\n",
      "323\n",
      "33\n"
     ]
    },
    {
     "name": "stderr",
     "output_type": "stream",
     "text": [
      "text was truncated: 944 -> 300\n"
     ]
    },
    {
     "name": "stdout",
     "output_type": "stream",
     "text": [
      "processing 43/131\n",
      "944\n",
      "14\n"
     ]
    },
    {
     "name": "stderr",
     "output_type": "stream",
     "text": [
      "text was truncated: 1169 -> 300\n"
     ]
    },
    {
     "name": "stdout",
     "output_type": "stream",
     "text": [
      "processing 44/131\n",
      "1169\n",
      "20\n"
     ]
    },
    {
     "name": "stderr",
     "output_type": "stream",
     "text": [
      "text was truncated: 826 -> 300\n"
     ]
    },
    {
     "name": "stdout",
     "output_type": "stream",
     "text": [
      "processing 45/131\n",
      "826\n",
      "21\n",
      "processing 46/131\n",
      "270\n",
      "14\n"
     ]
    },
    {
     "name": "stderr",
     "output_type": "stream",
     "text": [
      "text was truncated: 433 -> 300\n"
     ]
    },
    {
     "name": "stdout",
     "output_type": "stream",
     "text": [
      "processing 47/131\n",
      "433\n",
      "21\n",
      "processing 48/131\n",
      "239\n",
      "10\n"
     ]
    },
    {
     "name": "stderr",
     "output_type": "stream",
     "text": [
      "text was truncated: 1241 -> 300\n"
     ]
    },
    {
     "name": "stdout",
     "output_type": "stream",
     "text": [
      "processing 49/131\n",
      "1241\n",
      "14\n",
      "processing 50/131\n",
      "122\n",
      "32\n"
     ]
    },
    {
     "name": "stderr",
     "output_type": "stream",
     "text": [
      "text was truncated: 3128 -> 300\n"
     ]
    },
    {
     "name": "stdout",
     "output_type": "stream",
     "text": [
      "processing 51/131\n",
      "3128\n",
      "22\n"
     ]
    },
    {
     "name": "stderr",
     "output_type": "stream",
     "text": [
      "text was truncated: 1012 -> 300\n"
     ]
    },
    {
     "name": "stdout",
     "output_type": "stream",
     "text": [
      "processing 52/131\n",
      "1012\n",
      "30\n",
      "processing 53/131\n",
      "297\n",
      "15\n"
     ]
    },
    {
     "name": "stderr",
     "output_type": "stream",
     "text": [
      "text was truncated: 614 -> 300\n"
     ]
    },
    {
     "name": "stdout",
     "output_type": "stream",
     "text": [
      "processing 54/131\n",
      "614\n",
      "25\n"
     ]
    },
    {
     "name": "stderr",
     "output_type": "stream",
     "text": [
      "text was truncated: 498 -> 300\n"
     ]
    },
    {
     "name": "stdout",
     "output_type": "stream",
     "text": [
      "processing 55/131\n",
      "498\n",
      "17\n"
     ]
    },
    {
     "name": "stderr",
     "output_type": "stream",
     "text": [
      "text was truncated: 538 -> 300\n"
     ]
    },
    {
     "name": "stdout",
     "output_type": "stream",
     "text": [
      "processing 56/131\n",
      "538\n",
      "28\n"
     ]
    },
    {
     "name": "stderr",
     "output_type": "stream",
     "text": [
      "text was truncated: 402 -> 300\n"
     ]
    },
    {
     "name": "stdout",
     "output_type": "stream",
     "text": [
      "processing 57/131\n",
      "402\n",
      "15\n"
     ]
    },
    {
     "name": "stderr",
     "output_type": "stream",
     "text": [
      "text was truncated: 309 -> 300\n"
     ]
    },
    {
     "name": "stdout",
     "output_type": "stream",
     "text": [
      "processing 58/131\n",
      "309\n",
      "45\n",
      "processing 59/131\n",
      "110\n",
      "35\n",
      "processing 60/131\n",
      "211\n",
      "42\n",
      "processing 61/131\n",
      "182\n",
      "19\n"
     ]
    },
    {
     "name": "stderr",
     "output_type": "stream",
     "text": [
      "text was truncated: 463 -> 300\n"
     ]
    },
    {
     "name": "stdout",
     "output_type": "stream",
     "text": [
      "processing 62/131\n",
      "463\n",
      "45\n",
      "processing 63/131\n",
      "81\n",
      "14\n"
     ]
    },
    {
     "name": "stderr",
     "output_type": "stream",
     "text": [
      "text was truncated: 483 -> 300\n"
     ]
    },
    {
     "name": "stdout",
     "output_type": "stream",
     "text": [
      "processing 64/131\n",
      "483\n",
      "11\n",
      "processing 65/131\n",
      "147\n",
      "14\n"
     ]
    },
    {
     "name": "stderr",
     "output_type": "stream",
     "text": [
      "text was truncated: 375 -> 300\n"
     ]
    },
    {
     "name": "stdout",
     "output_type": "stream",
     "text": [
      "processing 66/131\n",
      "375\n",
      "19\n"
     ]
    },
    {
     "name": "stderr",
     "output_type": "stream",
     "text": [
      "text was truncated: 540 -> 300\n"
     ]
    },
    {
     "name": "stdout",
     "output_type": "stream",
     "text": [
      "processing 67/131\n",
      "540\n",
      "17\n",
      "processing 68/131\n",
      "111\n",
      "25\n"
     ]
    },
    {
     "name": "stderr",
     "output_type": "stream",
     "text": [
      "text was truncated: 1098 -> 300\n"
     ]
    },
    {
     "name": "stdout",
     "output_type": "stream",
     "text": [
      "processing 69/131\n",
      "1098\n",
      "20\n"
     ]
    },
    {
     "name": "stderr",
     "output_type": "stream",
     "text": [
      "text was truncated: 1163 -> 300\n"
     ]
    },
    {
     "name": "stdout",
     "output_type": "stream",
     "text": [
      "processing 70/131\n",
      "1163\n",
      "31\n",
      "processing 71/131\n",
      "284\n",
      "11\n"
     ]
    },
    {
     "name": "stderr",
     "output_type": "stream",
     "text": [
      "text was truncated: 351 -> 300\n"
     ]
    },
    {
     "name": "stdout",
     "output_type": "stream",
     "text": [
      "processing 72/131\n",
      "351\n",
      "17\n",
      "processing 73/131\n",
      "110\n",
      "14\n",
      "processing 74/131\n",
      "73\n",
      "14\n",
      "processing 75/131\n",
      "59\n",
      "16\n",
      "processing 76/131\n",
      "73\n",
      "8\n",
      "processing 77/131\n",
      "130\n",
      "17\n",
      "processing 78/131\n",
      "92\n",
      "16\n",
      "processing 79/131\n",
      "190\n",
      "47\n"
     ]
    },
    {
     "name": "stderr",
     "output_type": "stream",
     "text": [
      "text was truncated: 509 -> 300\n"
     ]
    },
    {
     "name": "stdout",
     "output_type": "stream",
     "text": [
      "processing 80/131\n",
      "509\n",
      "17\n",
      "processing 81/131\n",
      "232\n",
      "12\n",
      "processing 82/131\n",
      "189\n",
      "10\n",
      "processing 83/131\n",
      "52\n",
      "18\n",
      "processing 84/131\n",
      "53\n",
      "13\n"
     ]
    },
    {
     "name": "stderr",
     "output_type": "stream",
     "text": [
      "text was truncated: 800 -> 300\n"
     ]
    },
    {
     "name": "stdout",
     "output_type": "stream",
     "text": [
      "processing 85/131\n",
      "800\n",
      "17\n"
     ]
    },
    {
     "name": "stderr",
     "output_type": "stream",
     "text": [
      "text was truncated: 504 -> 300\n"
     ]
    },
    {
     "name": "stdout",
     "output_type": "stream",
     "text": [
      "processing 86/131\n",
      "504\n",
      "40\n"
     ]
    },
    {
     "name": "stderr",
     "output_type": "stream",
     "text": [
      "text was truncated: 977 -> 300\n"
     ]
    },
    {
     "name": "stdout",
     "output_type": "stream",
     "text": [
      "processing 87/131\n",
      "977\n",
      "33\n",
      "processing 88/131\n",
      "84\n",
      "18\n",
      "processing 89/131\n",
      "176\n",
      "18\n",
      "processing 90/131\n",
      "101\n",
      "17\n",
      "processing 91/131\n",
      "150\n",
      "18\n",
      "processing 92/131\n",
      "118\n",
      "9\n"
     ]
    },
    {
     "name": "stderr",
     "output_type": "stream",
     "text": [
      "text was truncated: 717 -> 300\n"
     ]
    },
    {
     "name": "stdout",
     "output_type": "stream",
     "text": [
      "processing 93/131\n",
      "717\n",
      "12\n",
      "processing 94/131\n",
      "131\n",
      "17\n"
     ]
    },
    {
     "name": "stderr",
     "output_type": "stream",
     "text": [
      "text was truncated: 301 -> 300\n"
     ]
    },
    {
     "name": "stdout",
     "output_type": "stream",
     "text": [
      "processing 95/131\n",
      "301\n",
      "13\n"
     ]
    },
    {
     "name": "stderr",
     "output_type": "stream",
     "text": [
      "text was truncated: 2958 -> 300\n"
     ]
    },
    {
     "name": "stdout",
     "output_type": "stream",
     "text": [
      "processing 96/131\n",
      "2958\n",
      "35\n",
      "processing 97/131\n",
      "12\n",
      "17\n"
     ]
    },
    {
     "name": "stderr",
     "output_type": "stream",
     "text": [
      "text was truncated: 403 -> 300\n"
     ]
    },
    {
     "name": "stdout",
     "output_type": "stream",
     "text": [
      "processing 98/131\n",
      "403\n",
      "21\n",
      "processing 99/131\n",
      "76\n",
      "9\n",
      "processing 100/131\n",
      "128\n",
      "8\n",
      "processing 101/131\n",
      "126\n",
      "17\n",
      "processing 102/131\n",
      "28\n",
      "11\n"
     ]
    },
    {
     "name": "stderr",
     "output_type": "stream",
     "text": [
      "text was truncated: 337 -> 300\n"
     ]
    },
    {
     "name": "stdout",
     "output_type": "stream",
     "text": [
      "processing 103/131\n",
      "337\n",
      "14\n",
      "processing 104/131\n",
      "115\n",
      "10\n"
     ]
    },
    {
     "name": "stderr",
     "output_type": "stream",
     "text": [
      "text was truncated: 350 -> 300\n"
     ]
    },
    {
     "name": "stdout",
     "output_type": "stream",
     "text": [
      "processing 105/131\n",
      "350\n",
      "20\n",
      "processing 106/131\n",
      "95\n",
      "37\n"
     ]
    },
    {
     "name": "stderr",
     "output_type": "stream",
     "text": [
      "text was truncated: 422 -> 300\n"
     ]
    },
    {
     "name": "stdout",
     "output_type": "stream",
     "text": [
      "processing 107/131\n",
      "422\n",
      "23\n"
     ]
    },
    {
     "name": "stderr",
     "output_type": "stream",
     "text": [
      "text was truncated: 345 -> 300\n"
     ]
    },
    {
     "name": "stdout",
     "output_type": "stream",
     "text": [
      "processing 108/131\n",
      "345\n",
      "24\n"
     ]
    },
    {
     "name": "stderr",
     "output_type": "stream",
     "text": [
      "text was truncated: 2952 -> 300\n"
     ]
    },
    {
     "name": "stdout",
     "output_type": "stream",
     "text": [
      "processing 109/131\n",
      "2952\n",
      "45\n",
      "processing 110/131\n",
      "50\n",
      "12\n"
     ]
    },
    {
     "name": "stderr",
     "output_type": "stream",
     "text": [
      "text was truncated: 493 -> 300\n"
     ]
    },
    {
     "name": "stdout",
     "output_type": "stream",
     "text": [
      "processing 111/131\n",
      "493\n",
      "9\n",
      "processing 112/131\n",
      "122\n",
      "10\n",
      "processing 113/131\n",
      "245\n",
      "11\n",
      "processing 114/131\n",
      "45\n",
      "19\n",
      "processing 115/131\n",
      "71\n",
      "12\n",
      "processing 116/131\n",
      "67\n",
      "16\n",
      "processing 117/131\n",
      "41\n",
      "13\n",
      "processing 118/131\n",
      "48\n",
      "19\n",
      "processing 119/131\n",
      "95\n",
      "23\n",
      "processing 120/131\n",
      "38\n",
      "29\n"
     ]
    },
    {
     "name": "stderr",
     "output_type": "stream",
     "text": [
      "text was truncated: 776 -> 300\n"
     ]
    },
    {
     "name": "stdout",
     "output_type": "stream",
     "text": [
      "processing 121/131\n",
      "776\n",
      "17\n",
      "processing 122/131\n",
      "41\n",
      "16\n",
      "processing 123/131\n",
      "88\n",
      "10\n",
      "processing 124/131\n",
      "136\n",
      "17\n"
     ]
    },
    {
     "name": "stderr",
     "output_type": "stream",
     "text": [
      "text was truncated: 1469 -> 300\n"
     ]
    },
    {
     "name": "stdout",
     "output_type": "stream",
     "text": [
      "processing 125/131\n",
      "1469\n",
      "15\n"
     ]
    },
    {
     "name": "stderr",
     "output_type": "stream",
     "text": [
      "text was truncated: 1109 -> 300\n"
     ]
    },
    {
     "name": "stdout",
     "output_type": "stream",
     "text": [
      "processing 126/131\n",
      "1109\n",
      "14\n",
      "processing 127/131\n",
      "226\n",
      "12\n",
      "processing 128/131\n",
      "84\n",
      "9\n",
      "processing 129/131\n",
      "44\n",
      "30\n",
      "processing 130/131\n",
      "129\n",
      "12\n"
     ]
    }
   ],
   "source": [
    "with open(\"stackoverflow.json\", \"r\") as f:\n",
    "    docs = json.load(f)\n",
    "\n",
    "\n",
    "num_docs = len(docs)\n",
    "\n",
    "\n",
    "for i, doc in enumerate(docs):\n",
    "    print(f\"processing {i}/{num_docs}\")\n",
    "    doc[\"vector\"] = embed_sto([truncate_text(doc[\"question\"])])[0]\n",
    "    doc[\"vector_title\"] = embed_sto([truncate_text(doc[\"question_title\"])])[0]"
   ]
  },
  {
   "cell_type": "code",
   "execution_count": 7,
   "id": "d7ea47cf-423d-48e5-a1dc-64481662c04e",
   "metadata": {},
   "outputs": [],
   "source": [
    "def schema_check(record, fields):\n",
    "    excess_columns = set(record.keys()) - set([f.name for f in fields])\n",
    "    if excess_columns:\n",
    "        print(f\"addigional columns: {excess_columns}\")\n",
    "    for f in fields:\n",
    "        column_name = f.name\n",
    "        if column_name == \"id\":\n",
    "            continue\n",
    "        if column_name not in record.keys():\n",
    "            missing_columns.append(column_name)\n",
    "            print(f\"missing: {column_name}\")\n",
    "            continue\n",
    "        if f.dtype == DataType.INT64:\n",
    "            if not isinstance(record[column_name], int):\n",
    "                print(f\"wrong data type: {column_name}\")\n",
    "        if f.dtype == DataType.VARCHAR:\n",
    "            if not isinstance(record[column_name], str):\n",
    "                print(f\"wrong data type: {column_name}\")\n",
    "            if f.params[\"max_length\"] < len(record[column_name]):\n",
    "                print(f\"too long string: {column_name} ({len(record[column_name])})\")\n",
    "        if f.dtype == DataType.FLOAT_VECTOR:\n",
    "            if len(record[column_name]) != f.dim:\n",
    "                print(f\"dim mismatch {column_name}: {len(record[column_name])} != {f.dim}\")"
   ]
  },
  {
   "cell_type": "code",
   "execution_count": 8,
   "id": "a213793f-676e-42b8-a2a7-be98d987a308",
   "metadata": {
    "scrolled": true
   },
   "outputs": [],
   "source": [
    "import copy\n",
    "\n",
    "\n",
    "insert_data = copy.deepcopy(docs)\n",
    "for elem in insert_data:\n",
    "    del elem[\"num_view\"]\n",
    "    elem[\"answers\"] = str(elem[\"answers\"])\n",
    "    if len(elem[\"question\"]) > 10000:\n",
    "        elem[\"question\"] = elem[\"question\"][:10000]\n",
    "    schema_check(elem, fields)"
   ]
  },
  {
   "cell_type": "code",
   "execution_count": 10,
   "id": "4cda9b24-c6c4-4cf7-9dfe-9ce6a2df8a00",
   "metadata": {},
   "outputs": [],
   "source": [
    "res = client.insert(collection_name=STO_CLNAME, data=insert_data)"
   ]
  },
  {
   "cell_type": "code",
   "execution_count": 11,
   "id": "d3c0953d-79e0-4176-ab09-6132d540e68c",
   "metadata": {},
   "outputs": [
    {
     "data": {
      "text/plain": [
       "{'insert_count': 131,\n",
       " 'ids': [451482685656268800, 451482685656268801, 451482685656268802, 451482685656268803, 451482685656268804, 451482685656268805, 451482685656268806, 451482685656268807, 451482685656268808, 451482685656268809, 451482685656268810, 451482685656268811, 451482685656268812, 451482685656268813, 451482685656268814, 451482685656268815, 451482685656268816, 451482685656268817, 451482685656268818, 451482685656268819, 451482685656268820, 451482685656268821, 451482685656268822, 451482685656268823, 451482685656268824, 451482685656268825, 451482685656268826, 451482685656268827, 451482685656268828, 451482685656268829, 451482685656268830, 451482685656268831, 451482685656268832, 451482685656268833, 451482685656268834, 451482685656268835, 451482685656268836, 451482685656268837, 451482685656268838, 451482685656268839, 451482685656268840, 451482685656268841, 451482685656268842, 451482685656268843, 451482685656268844, 451482685656268845, 451482685656268846, 451482685656268847, 451482685656268848, 451482685656268849, 451482685656268850, 451482685656268851, 451482685656268852, 451482685656268853, 451482685656268854, 451482685656268855, 451482685656268856, 451482685656268857, 451482685656268858, 451482685656268859, 451482685656268860, 451482685656268861, 451482685656268862, 451482685656268863, 451482685656268864, 451482685656268865, 451482685656268866, 451482685656268867, 451482685656268868, 451482685656268869, 451482685656268870, 451482685656268871, 451482685656268872, 451482685656268873, 451482685656268874, 451482685656268875, 451482685656268876, 451482685656268877, 451482685656268878, 451482685656268879, 451482685656268880, 451482685656268881, 451482685656268882, 451482685656268883, 451482685656268884, 451482685656268885, 451482685656268886, 451482685656268887, 451482685656268888, 451482685656268889, 451482685656268890, 451482685656268891, 451482685656268892, 451482685656268893, 451482685656268894, 451482685656268895, 451482685656268896, 451482685656268897, 451482685656268898, 451482685656268899, 451482685656268900, 451482685656268901, 451482685656268902, 451482685656268903, 451482685656268904, 451482685656268905, 451482685656268906, 451482685656268907, 451482685656268908, 451482685656268909, 451482685656268910, 451482685656268911, 451482685656268912, 451482685656268913, 451482685656268914, 451482685656268915, 451482685656268916, 451482685656268917, 451482685656268918, 451482685656268919, 451482685656268920, 451482685656268921, 451482685656268922, 451482685656268923, 451482685656268924, 451482685656268925, 451482685656268926, 451482685656268927, 451482685656268928, 451482685656268929, 451482685656268930],\n",
       " 'cost': 0}"
      ]
     },
     "execution_count": 11,
     "metadata": {},
     "output_type": "execute_result"
    }
   ],
   "source": [
    "res"
   ]
  },
  {
   "cell_type": "code",
   "execution_count": null,
   "id": "065d41fe-2cdc-4b70-aeaa-72ee5c8b075d",
   "metadata": {},
   "outputs": [],
   "source": []
  }
 ],
 "metadata": {
  "kernelspec": {
   "display_name": "Python 3 (ipykernel)",
   "language": "python",
   "name": "python3"
  },
  "language_info": {
   "codemirror_mode": {
    "name": "ipython",
    "version": 3
   },
   "file_extension": ".py",
   "mimetype": "text/x-python",
   "name": "python",
   "nbconvert_exporter": "python",
   "pygments_lexer": "ipython3",
   "version": "3.12.3"
  }
 },
 "nbformat": 4,
 "nbformat_minor": 5
}
